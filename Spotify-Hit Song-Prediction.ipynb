{
 "cells": [
  {
   "cell_type": "code",
   "execution_count": 1,
   "metadata": {
    "execution": {
     "iopub.execute_input": "2021-02-07T18:25:23.913187Z",
     "iopub.status.busy": "2021-02-07T18:25:23.912521Z",
     "iopub.status.idle": "2021-02-07T18:25:25.220675Z",
     "shell.execute_reply": "2021-02-07T18:25:25.219793Z"
    },
    "papermill": {
     "duration": 1.325086,
     "end_time": "2021-02-07T18:25:25.220886",
     "exception": false,
     "start_time": "2021-02-07T18:25:23.895800",
     "status": "completed"
    },
    "tags": []
   },
   "outputs": [],
   "source": [
    "import numpy as np\n",
    "import pandas as pd\n",
    "\n",
    "from sklearn.model_selection import train_test_split\n",
    "from sklearn.preprocessing import StandardScaler\n",
    "\n",
    "from sklearn.linear_model import LogisticRegression\n",
    "from sklearn.neighbors import KNeighborsClassifier\n",
    "from sklearn.tree import DecisionTreeClassifier\n",
    "from sklearn.svm import LinearSVC, SVC\n",
    "from sklearn.neural_network import MLPClassifier\n",
    "from sklearn.ensemble import RandomForestClassifier, GradientBoostingClassifier\n",
    "\n",
    "import warnings\n",
    "warnings.filterwarnings(action='ignore')"
   ]
  },
  {
   "cell_type": "code",
   "execution_count": 2,
   "metadata": {},
   "outputs": [],
   "source": [
    "def createDataframe():\n",
    "    data_csv = [pd.read_csv(f'/Users/devswaika/Desktop/VIT/Fourth Year/Fall Sem/E1 Metrics/J Comp/archive/dataset-of-{decade}0s.csv') for decade in ['6', '7', '8', '9', '0', '1']]\n",
    "    return data_csv"
   ]
  },
  {
   "cell_type": "code",
   "execution_count": 3,
   "metadata": {},
   "outputs": [],
   "source": [
    "dfs = createDataframe()"
   ]
  },
  {
   "cell_type": "code",
   "execution_count": 4,
   "metadata": {
    "execution": {
     "iopub.execute_input": "2021-02-07T18:25:25.810241Z",
     "iopub.status.busy": "2021-02-07T18:25:25.803264Z",
     "iopub.status.idle": "2021-02-07T18:25:25.849513Z",
     "shell.execute_reply": "2021-02-07T18:25:25.848939Z"
    },
    "papermill": {
     "duration": 0.082367,
     "end_time": "2021-02-07T18:25:25.849687",
     "exception": false,
     "start_time": "2021-02-07T18:25:25.767320",
     "status": "completed"
    },
    "tags": []
   },
   "outputs": [],
   "source": [
    "def createData(dfs):\n",
    "    for i, decade in enumerate([1960, 1970, 1980, 1990, 2000, 2010]):\n",
    "        dfs[i]['decade'] = pd.Series(decade, index=dfs[i].index)\n",
    "    data = pd.concat(dfs, axis=0).sample(frac=1.0, random_state=1).reset_index(drop=True)\n",
    "    return data"
   ]
  },
  {
   "cell_type": "code",
   "execution_count": 5,
   "metadata": {
    "execution": {
     "iopub.execute_input": "2021-02-07T18:25:25.882517Z",
     "iopub.status.busy": "2021-02-07T18:25:25.881646Z",
     "iopub.status.idle": "2021-02-07T18:25:25.919361Z",
     "shell.execute_reply": "2021-02-07T18:25:25.920058Z"
    },
    "papermill": {
     "duration": 0.059889,
     "end_time": "2021-02-07T18:25:25.920283",
     "exception": false,
     "start_time": "2021-02-07T18:25:25.860394",
     "status": "completed"
    },
    "tags": []
   },
   "outputs": [],
   "source": [
    "data = createData(dfs)"
   ]
  },
  {
   "cell_type": "code",
   "execution_count": 6,
   "metadata": {
    "execution": {
     "iopub.execute_input": "2021-02-07T18:25:25.962064Z",
     "iopub.status.busy": "2021-02-07T18:25:25.961326Z",
     "iopub.status.idle": "2021-02-07T18:25:25.998401Z",
     "shell.execute_reply": "2021-02-07T18:25:25.997855Z"
    },
    "papermill": {
     "duration": 0.059979,
     "end_time": "2021-02-07T18:25:25.998537",
     "exception": false,
     "start_time": "2021-02-07T18:25:25.938558",
     "status": "completed"
    },
    "scrolled": true,
    "tags": []
   },
   "outputs": [
    {
     "name": "stdout",
     "output_type": "stream",
     "text": [
      "<class 'pandas.core.frame.DataFrame'>\n",
      "RangeIndex: 41106 entries, 0 to 41105\n",
      "Data columns (total 20 columns):\n",
      " #   Column            Non-Null Count  Dtype  \n",
      "---  ------            --------------  -----  \n",
      " 0   track             41106 non-null  object \n",
      " 1   artist            41106 non-null  object \n",
      " 2   uri               41106 non-null  object \n",
      " 3   danceability      41106 non-null  float64\n",
      " 4   energy            41106 non-null  float64\n",
      " 5   key               41106 non-null  int64  \n",
      " 6   loudness          41106 non-null  float64\n",
      " 7   mode              41106 non-null  int64  \n",
      " 8   speechiness       41106 non-null  float64\n",
      " 9   acousticness      41106 non-null  float64\n",
      " 10  instrumentalness  41106 non-null  float64\n",
      " 11  liveness          41106 non-null  float64\n",
      " 12  valence           41106 non-null  float64\n",
      " 13  tempo             41106 non-null  float64\n",
      " 14  duration_ms       41106 non-null  int64  \n",
      " 15  time_signature    41106 non-null  int64  \n",
      " 16  chorus_hit        41106 non-null  float64\n",
      " 17  sections          41106 non-null  int64  \n",
      " 18  target            41106 non-null  int64  \n",
      " 19  decade            41106 non-null  int64  \n",
      "dtypes: float64(10), int64(7), object(3)\n",
      "memory usage: 6.3+ MB\n"
     ]
    }
   ],
   "source": [
    "data.info()"
   ]
  },
  {
   "cell_type": "code",
   "execution_count": 7,
   "metadata": {
    "execution": {
     "iopub.execute_input": "2021-02-07T18:25:26.060533Z",
     "iopub.status.busy": "2021-02-07T18:25:26.059712Z",
     "iopub.status.idle": "2021-02-07T18:25:26.062976Z",
     "shell.execute_reply": "2021-02-07T18:25:26.062154Z"
    },
    "papermill": {
     "duration": 0.027277,
     "end_time": "2021-02-07T18:25:26.063141",
     "exception": false,
     "start_time": "2021-02-07T18:25:26.035864",
     "status": "completed"
    },
    "tags": []
   },
   "outputs": [],
   "source": [
    "def preprocess_inputs(df):\n",
    "    df = df.copy()\n",
    "    \n",
    "    # Drop high-cardinality categorical columns\n",
    "    df = df.drop(['track', 'artist', 'uri'], axis=1)\n",
    "    \n",
    "    # Split df into X and y\n",
    "    y = df['target']\n",
    "    X = df.drop('target', axis=1)\n",
    "    \n",
    "    # Train-test split\n",
    "    X_train, X_test, y_train, y_test = train_test_split(X, y, train_size=0.7, shuffle=True, random_state=1)\n",
    "    X_train_copy, X_test_copy, y_train_copy, y_test_copy = train_test_split(X, y, train_size=0.7, shuffle=False, random_state=1)\n",
    "    \n",
    "    # Scale X\n",
    "    scaler = StandardScaler()\n",
    "    scaler.fit(X_train)\n",
    "    scaler.fit(X_train_copy)\n",
    "    X_train = pd.DataFrame(scaler.transform(X_train), index=X_train.index, columns=X_train.columns)\n",
    "    X_test = pd.DataFrame(scaler.transform(X_test), index=X_test.index, columns=X_test.columns)\n",
    "    X_train_copy = pd.DataFrame(scaler.transform(X_train_copy), index=X_train_copy.index, columns=X_train_copy.columns)\n",
    "    X_test_copy = pd.DataFrame(scaler.transform(X_test_copy), index=X_test_copy.index, columns=X_test_copy.columns)\n",
    "    \n",
    "    \n",
    "    return X_train, X_test, y_train, y_test, X_train_copy, X_test_copy, y_train_copy, y_test_copy"
   ]
  },
  {
   "cell_type": "code",
   "execution_count": 8,
   "metadata": {
    "execution": {
     "iopub.execute_input": "2021-02-07T18:25:26.106685Z",
     "iopub.status.busy": "2021-02-07T18:25:26.105886Z",
     "iopub.status.idle": "2021-02-07T18:25:26.151114Z",
     "shell.execute_reply": "2021-02-07T18:25:26.150512Z"
    },
    "papermill": {
     "duration": 0.069267,
     "end_time": "2021-02-07T18:25:26.151257",
     "exception": false,
     "start_time": "2021-02-07T18:25:26.081990",
     "status": "completed"
    },
    "tags": []
   },
   "outputs": [],
   "source": [
    "X_train, X_test, y_train, y_test, X_train_copy, X_test_copy, y_train_copy, y_test_copy = preprocess_inputs(data)"
   ]
  },
  {
   "cell_type": "code",
   "execution_count": 28,
   "metadata": {
    "execution": {
     "iopub.execute_input": "2021-02-07T18:25:26.191510Z",
     "iopub.status.busy": "2021-02-07T18:25:26.188809Z",
     "iopub.status.idle": "2021-02-07T18:25:26.212423Z",
     "shell.execute_reply": "2021-02-07T18:25:26.211758Z"
    },
    "papermill": {
     "duration": 0.048351,
     "end_time": "2021-02-07T18:25:26.212609",
     "exception": false,
     "start_time": "2021-02-07T18:25:26.164258",
     "status": "completed"
    },
    "tags": []
   },
   "outputs": [
    {
     "data": {
      "text/html": [
       "<div>\n",
       "<style scoped>\n",
       "    .dataframe tbody tr th:only-of-type {\n",
       "        vertical-align: middle;\n",
       "    }\n",
       "\n",
       "    .dataframe tbody tr th {\n",
       "        vertical-align: top;\n",
       "    }\n",
       "\n",
       "    .dataframe thead th {\n",
       "        text-align: right;\n",
       "    }\n",
       "</style>\n",
       "<table border=\"1\" class=\"dataframe\">\n",
       "  <thead>\n",
       "    <tr style=\"text-align: right;\">\n",
       "      <th></th>\n",
       "      <th>danceability</th>\n",
       "      <th>energy</th>\n",
       "      <th>key</th>\n",
       "      <th>loudness</th>\n",
       "      <th>mode</th>\n",
       "      <th>speechiness</th>\n",
       "      <th>acousticness</th>\n",
       "      <th>instrumentalness</th>\n",
       "      <th>liveness</th>\n",
       "      <th>valence</th>\n",
       "      <th>tempo</th>\n",
       "      <th>duration_ms</th>\n",
       "      <th>time_signature</th>\n",
       "      <th>chorus_hit</th>\n",
       "      <th>sections</th>\n",
       "      <th>decade</th>\n",
       "    </tr>\n",
       "  </thead>\n",
       "  <tbody>\n",
       "    <tr>\n",
       "      <th>17085</th>\n",
       "      <td>-0.803579</td>\n",
       "      <td>-1.153508</td>\n",
       "      <td>-0.911595</td>\n",
       "      <td>-1.108031</td>\n",
       "      <td>0.664463</td>\n",
       "      <td>-0.470079</td>\n",
       "      <td>1.597443</td>\n",
       "      <td>2.365261</td>\n",
       "      <td>-0.730825</td>\n",
       "      <td>-0.562646</td>\n",
       "      <td>0.598499</td>\n",
       "      <td>0.857555</td>\n",
       "      <td>0.251398</td>\n",
       "      <td>-0.114322</td>\n",
       "      <td>1.111575</td>\n",
       "      <td>-0.728001</td>\n",
       "    </tr>\n",
       "    <tr>\n",
       "      <th>5559</th>\n",
       "      <td>-1.851803</td>\n",
       "      <td>1.465022</td>\n",
       "      <td>0.219982</td>\n",
       "      <td>1.133744</td>\n",
       "      <td>-1.504975</td>\n",
       "      <td>0.278543</td>\n",
       "      <td>-0.871949</td>\n",
       "      <td>-0.411880</td>\n",
       "      <td>0.339355</td>\n",
       "      <td>-0.551441</td>\n",
       "      <td>0.307504</td>\n",
       "      <td>-0.393836</td>\n",
       "      <td>0.251398</td>\n",
       "      <td>2.358624</td>\n",
       "      <td>-1.104280</td>\n",
       "      <td>-0.156570</td>\n",
       "    </tr>\n",
       "    <tr>\n",
       "      <th>32888</th>\n",
       "      <td>-0.217476</td>\n",
       "      <td>0.959484</td>\n",
       "      <td>-1.477384</td>\n",
       "      <td>0.836655</td>\n",
       "      <td>0.664463</td>\n",
       "      <td>-0.399607</td>\n",
       "      <td>0.226872</td>\n",
       "      <td>-0.508212</td>\n",
       "      <td>1.284137</td>\n",
       "      <td>0.998542</td>\n",
       "      <td>1.222448</td>\n",
       "      <td>0.247178</td>\n",
       "      <td>0.251398</td>\n",
       "      <td>-0.827179</td>\n",
       "      <td>0.507251</td>\n",
       "      <td>-0.156570</td>\n",
       "    </tr>\n",
       "    <tr>\n",
       "      <th>14170</th>\n",
       "      <td>-1.158623</td>\n",
       "      <td>1.465022</td>\n",
       "      <td>-0.345807</td>\n",
       "      <td>0.735873</td>\n",
       "      <td>-1.504975</td>\n",
       "      <td>-0.150066</td>\n",
       "      <td>-1.075755</td>\n",
       "      <td>0.356139</td>\n",
       "      <td>0.465326</td>\n",
       "      <td>-0.129398</td>\n",
       "      <td>-0.770017</td>\n",
       "      <td>0.644171</td>\n",
       "      <td>0.251398</td>\n",
       "      <td>1.294883</td>\n",
       "      <td>0.910134</td>\n",
       "      <td>0.986290</td>\n",
       "    </tr>\n",
       "    <tr>\n",
       "      <th>7958</th>\n",
       "      <td>0.656043</td>\n",
       "      <td>-1.264095</td>\n",
       "      <td>-1.477384</td>\n",
       "      <td>0.217328</td>\n",
       "      <td>0.664463</td>\n",
       "      <td>-0.520912</td>\n",
       "      <td>0.560653</td>\n",
       "      <td>-0.508212</td>\n",
       "      <td>-0.324855</td>\n",
       "      <td>-1.018303</td>\n",
       "      <td>-1.250977</td>\n",
       "      <td>-0.654473</td>\n",
       "      <td>0.251398</td>\n",
       "      <td>-0.552763</td>\n",
       "      <td>-0.701398</td>\n",
       "      <td>-0.728001</td>\n",
       "    </tr>\n",
       "    <tr>\n",
       "      <th>...</th>\n",
       "      <td>...</td>\n",
       "      <td>...</td>\n",
       "      <td>...</td>\n",
       "      <td>...</td>\n",
       "      <td>...</td>\n",
       "      <td>...</td>\n",
       "      <td>...</td>\n",
       "      <td>...</td>\n",
       "      <td>...</td>\n",
       "      <td>...</td>\n",
       "      <td>...</td>\n",
       "      <td>...</td>\n",
       "      <td>...</td>\n",
       "      <td>...</td>\n",
       "      <td>...</td>\n",
       "      <td>...</td>\n",
       "    </tr>\n",
       "    <tr>\n",
       "      <th>7813</th>\n",
       "      <td>1.067443</td>\n",
       "      <td>1.615104</td>\n",
       "      <td>1.068665</td>\n",
       "      <td>1.050416</td>\n",
       "      <td>-1.504975</td>\n",
       "      <td>-0.279458</td>\n",
       "      <td>-1.045633</td>\n",
       "      <td>-0.508066</td>\n",
       "      <td>1.375752</td>\n",
       "      <td>1.106854</td>\n",
       "      <td>0.242074</td>\n",
       "      <td>0.958913</td>\n",
       "      <td>0.251398</td>\n",
       "      <td>-1.140895</td>\n",
       "      <td>1.111575</td>\n",
       "      <td>-0.156570</td>\n",
       "    </tr>\n",
       "    <tr>\n",
       "      <th>32511</th>\n",
       "      <td>-1.243157</td>\n",
       "      <td>0.584280</td>\n",
       "      <td>-0.911595</td>\n",
       "      <td>-0.132122</td>\n",
       "      <td>-1.504975</td>\n",
       "      <td>1.049116</td>\n",
       "      <td>-0.216201</td>\n",
       "      <td>-0.508195</td>\n",
       "      <td>-0.141625</td>\n",
       "      <td>-0.387105</td>\n",
       "      <td>1.935709</td>\n",
       "      <td>1.839028</td>\n",
       "      <td>0.251398</td>\n",
       "      <td>1.013845</td>\n",
       "      <td>0.910134</td>\n",
       "      <td>-0.728001</td>\n",
       "    </tr>\n",
       "    <tr>\n",
       "      <th>5192</th>\n",
       "      <td>-0.820486</td>\n",
       "      <td>-1.169306</td>\n",
       "      <td>1.634453</td>\n",
       "      <td>-1.385039</td>\n",
       "      <td>-1.504975</td>\n",
       "      <td>-0.449284</td>\n",
       "      <td>-0.242785</td>\n",
       "      <td>-0.508208</td>\n",
       "      <td>0.058783</td>\n",
       "      <td>-0.088314</td>\n",
       "      <td>-0.840429</td>\n",
       "      <td>-0.650781</td>\n",
       "      <td>0.251398</td>\n",
       "      <td>-0.313939</td>\n",
       "      <td>-0.499956</td>\n",
       "      <td>0.414860</td>\n",
       "    </tr>\n",
       "    <tr>\n",
       "      <th>12172</th>\n",
       "      <td>0.193923</td>\n",
       "      <td>1.346536</td>\n",
       "      <td>-1.477384</td>\n",
       "      <td>0.837593</td>\n",
       "      <td>-1.504975</td>\n",
       "      <td>-0.042625</td>\n",
       "      <td>-1.071125</td>\n",
       "      <td>1.058837</td>\n",
       "      <td>2.669817</td>\n",
       "      <td>-1.070592</td>\n",
       "      <td>0.088295</td>\n",
       "      <td>0.667744</td>\n",
       "      <td>0.251398</td>\n",
       "      <td>-0.347180</td>\n",
       "      <td>-0.902839</td>\n",
       "      <td>0.986290</td>\n",
       "    </tr>\n",
       "    <tr>\n",
       "      <th>33003</th>\n",
       "      <td>0.317907</td>\n",
       "      <td>-0.454444</td>\n",
       "      <td>1.068665</td>\n",
       "      <td>0.318860</td>\n",
       "      <td>0.664463</td>\n",
       "      <td>-0.553259</td>\n",
       "      <td>0.061458</td>\n",
       "      <td>-0.508212</td>\n",
       "      <td>-0.553893</td>\n",
       "      <td>-1.503840</td>\n",
       "      <td>-1.594927</td>\n",
       "      <td>-0.077782</td>\n",
       "      <td>0.251398</td>\n",
       "      <td>0.702523</td>\n",
       "      <td>-0.499956</td>\n",
       "      <td>0.986290</td>\n",
       "    </tr>\n",
       "  </tbody>\n",
       "</table>\n",
       "<p>28774 rows × 16 columns</p>\n",
       "</div>"
      ],
      "text/plain": [
       "       danceability    energy       key  loudness      mode  speechiness  \\\n",
       "17085     -0.803579 -1.153508 -0.911595 -1.108031  0.664463    -0.470079   \n",
       "5559      -1.851803  1.465022  0.219982  1.133744 -1.504975     0.278543   \n",
       "32888     -0.217476  0.959484 -1.477384  0.836655  0.664463    -0.399607   \n",
       "14170     -1.158623  1.465022 -0.345807  0.735873 -1.504975    -0.150066   \n",
       "7958       0.656043 -1.264095 -1.477384  0.217328  0.664463    -0.520912   \n",
       "...             ...       ...       ...       ...       ...          ...   \n",
       "7813       1.067443  1.615104  1.068665  1.050416 -1.504975    -0.279458   \n",
       "32511     -1.243157  0.584280 -0.911595 -0.132122 -1.504975     1.049116   \n",
       "5192      -0.820486 -1.169306  1.634453 -1.385039 -1.504975    -0.449284   \n",
       "12172      0.193923  1.346536 -1.477384  0.837593 -1.504975    -0.042625   \n",
       "33003      0.317907 -0.454444  1.068665  0.318860  0.664463    -0.553259   \n",
       "\n",
       "       acousticness  instrumentalness  liveness   valence     tempo  \\\n",
       "17085      1.597443          2.365261 -0.730825 -0.562646  0.598499   \n",
       "5559      -0.871949         -0.411880  0.339355 -0.551441  0.307504   \n",
       "32888      0.226872         -0.508212  1.284137  0.998542  1.222448   \n",
       "14170     -1.075755          0.356139  0.465326 -0.129398 -0.770017   \n",
       "7958       0.560653         -0.508212 -0.324855 -1.018303 -1.250977   \n",
       "...             ...               ...       ...       ...       ...   \n",
       "7813      -1.045633         -0.508066  1.375752  1.106854  0.242074   \n",
       "32511     -0.216201         -0.508195 -0.141625 -0.387105  1.935709   \n",
       "5192      -0.242785         -0.508208  0.058783 -0.088314 -0.840429   \n",
       "12172     -1.071125          1.058837  2.669817 -1.070592  0.088295   \n",
       "33003      0.061458         -0.508212 -0.553893 -1.503840 -1.594927   \n",
       "\n",
       "       duration_ms  time_signature  chorus_hit  sections    decade  \n",
       "17085     0.857555        0.251398   -0.114322  1.111575 -0.728001  \n",
       "5559     -0.393836        0.251398    2.358624 -1.104280 -0.156570  \n",
       "32888     0.247178        0.251398   -0.827179  0.507251 -0.156570  \n",
       "14170     0.644171        0.251398    1.294883  0.910134  0.986290  \n",
       "7958     -0.654473        0.251398   -0.552763 -0.701398 -0.728001  \n",
       "...            ...             ...         ...       ...       ...  \n",
       "7813      0.958913        0.251398   -1.140895  1.111575 -0.156570  \n",
       "32511     1.839028        0.251398    1.013845  0.910134 -0.728001  \n",
       "5192     -0.650781        0.251398   -0.313939 -0.499956  0.414860  \n",
       "12172     0.667744        0.251398   -0.347180 -0.902839  0.986290  \n",
       "33003    -0.077782        0.251398    0.702523 -0.499956  0.986290  \n",
       "\n",
       "[28774 rows x 16 columns]"
      ]
     },
     "execution_count": 28,
     "metadata": {},
     "output_type": "execute_result"
    }
   ],
   "source": [
    "X_train"
   ]
  },
  {
   "cell_type": "code",
   "execution_count": 10,
   "metadata": {
    "execution": {
     "iopub.execute_input": "2021-02-07T18:25:26.247505Z",
     "iopub.status.busy": "2021-02-07T18:25:26.246649Z",
     "iopub.status.idle": "2021-02-07T18:25:26.252288Z",
     "shell.execute_reply": "2021-02-07T18:25:26.252794Z"
    },
    "papermill": {
     "duration": 0.026639,
     "end_time": "2021-02-07T18:25:26.252967",
     "exception": false,
     "start_time": "2021-02-07T18:25:26.226328",
     "status": "completed"
    },
    "tags": []
   },
   "outputs": [],
   "source": [
    "#y_train"
   ]
  },
  {
   "cell_type": "code",
   "execution_count": 11,
   "metadata": {},
   "outputs": [],
   "source": [
    "models = {\n",
    "        \"Logistic Regression\": LogisticRegression(),\n",
    "        \"K-Nearest Neighbors\": KNeighborsClassifier(),\n",
    "        \"Decision Tree\": DecisionTreeClassifier(),\n",
    "        \"Support Vector Machine (Linear Kernel)\": LinearSVC(),\n",
    "        \"Support Vector Machine (RBF Kernel)\": SVC(),\n",
    "        \"Neural Network\": MLPClassifier(),\n",
    "        \"Random Forest\": RandomForestClassifier(),\n",
    "        \"Gradient Boosting\": GradientBoostingClassifier()\n",
    "    }\n",
    "\n",
    "def train_models(models, X_train, y_train):\n",
    "    for name, model in models.items():\n",
    "        model.fit(X_train, y_train)\n",
    "        print(name + \" trained.\")"
   ]
  },
  {
   "cell_type": "code",
   "execution_count": 12,
   "metadata": {},
   "outputs": [
    {
     "name": "stdout",
     "output_type": "stream",
     "text": [
      "Logistic Regression trained.\n",
      "K-Nearest Neighbors trained.\n",
      "Decision Tree trained.\n",
      "Support Vector Machine (Linear Kernel) trained.\n",
      "Support Vector Machine (RBF Kernel) trained.\n",
      "Neural Network trained.\n",
      "Random Forest trained.\n",
      "Gradient Boosting trained.\n"
     ]
    }
   ],
   "source": [
    "train_models(models, X_train, y_train)"
   ]
  },
  {
   "cell_type": "code",
   "execution_count": 13,
   "metadata": {},
   "outputs": [
    {
     "name": "stdout",
     "output_type": "stream",
     "text": [
      "Logistic Regression: 74.50%\n",
      "K-Nearest Neighbors: 75.30%\n",
      "Decision Tree: 72.49%\n",
      "Support Vector Machine (Linear Kernel): 74.25%\n",
      "Support Vector Machine (RBF Kernel): 80.26%\n",
      "Neural Network: 79.90%\n",
      "Random Forest: 80.90%\n",
      "Gradient Boosting: 79.64%\n"
     ]
    }
   ],
   "source": [
    "def models_accuracy(models, X_test, y_test):\n",
    "    for name, model in models.items():\n",
    "        print(name + \": {:.2f}%\".format(model.score(X_test, y_test) * 100))\n",
    "models_accuracy(models, X_test, y_test)"
   ]
  },
  {
   "cell_type": "code",
   "execution_count": 14,
   "metadata": {},
   "outputs": [
    {
     "name": "stdout",
     "output_type": "stream",
     "text": [
      "Preditction:  [1 0 1 0 1 0 0 1 1 0 1 0 0 0 0]\n",
      "Acutal:       [1 1 1 0 0 1 1 1 0 0 0 0 0 0 0]\n"
     ]
    }
   ],
   "source": [
    "for name,model in models.items():\n",
    "    if (name=='Random Forest'):\n",
    "        final_model = model\n",
    "\n",
    "prediction = final_model.predict(X_test)\n",
    "print(\"Preditction: \",prediction[:15])\n",
    "print(\"Acutal:      \",np.array(y_test)[:15])"
   ]
  },
  {
   "cell_type": "code",
   "execution_count": 15,
   "metadata": {},
   "outputs": [],
   "source": [
    "x_test_copy_list = X_test_copy.values.tolist()\n",
    "x_train_copy_list = X_train_copy.values.tolist()\n",
    "#format(x_test_copy_list[:2])"
   ]
  },
  {
   "cell_type": "code",
   "execution_count": 16,
   "metadata": {},
   "outputs": [],
   "source": [
    "data_list = data.values.tolist()\n",
    "#data_list"
   ]
  },
  {
   "cell_type": "code",
   "execution_count": 17,
   "metadata": {},
   "outputs": [],
   "source": [
    "Validation_list = x_train_copy_list + x_test_copy_list\n",
    "#Validation_list"
   ]
  },
  {
   "cell_type": "code",
   "execution_count": 18,
   "metadata": {
    "scrolled": true
   },
   "outputs": [],
   "source": [
    "def PredictHit(song, data_list, final_model, Validation_list):\n",
    "    for music in data_list:\n",
    "        if (music[0] == song):\n",
    "            music_index = data_list.index(music)\n",
    "            break\n",
    "    prediction_made = final_model.predict([Validation_list[music_index]])\n",
    "\n",
    "    if (prediction_made == 0):\n",
    "        print(\"Model predicts '\" + data_list[music_index][0] + \"' is a Flop\")\n",
    "    else:\n",
    "        print(\"Model predicts '\" + data_list[music_index][0] + \"' is a Hit\")\n",
    "\n",
    "    if (data_list[music_index][18] == 0):\n",
    "        print(\"Data says '\" + data_list[music_index][0] + \"' is a Flop\")\n",
    "    else:\n",
    "        print(\"Data says '\" + data_list[music_index][0] + \"' is a Hit\")"
   ]
  },
  {
   "cell_type": "code",
   "execution_count": 19,
   "metadata": {},
   "outputs": [
    {
     "name": "stdout",
     "output_type": "stream",
     "text": [
      "Enter a song name : So Fly\n",
      "Model predicts 'So Fly' is a Hit\n",
      "Data says 'So Fly' is a Hit\n"
     ]
    }
   ],
   "source": [
    "song = input(\"Enter a song name : \")\n",
    "PredictHit(song, data_list, final_model, Validation_list)"
   ]
  },
  {
   "cell_type": "code",
   "execution_count": 20,
   "metadata": {},
   "outputs": [],
   "source": [
    "def ConfusionMatrix(y_test, prediction, final_model, X_test):\n",
    "    from sklearn.metrics import confusion_matrix, plot_confusion_matrix\n",
    "    confusion_matrix(y_test,prediction, labels=(1,0))\n",
    "    tp, fn, fp, tn = confusion_matrix(y_test,prediction, labels=(1,0)).ravel()\n",
    "    plot_confusion_matrix(final_model,X_test,y_test, labels=(1,0))\n",
    "    print(tp, fn, fp, tn)"
   ]
  },
  {
   "cell_type": "code",
   "execution_count": 21,
   "metadata": {},
   "outputs": [
    {
     "name": "stdout",
     "output_type": "stream",
     "text": [
      "5273 889 1467 4703\n"
     ]
    },
    {
     "data": {
      "image/png": "[encoded data removed]",
      "text/plain": [
       "<Figure size 432x288 with 2 Axes>"
      ]
     },
     "metadata": {
      "needs_background": "light"
     },
     "output_type": "display_data"
    }
   ],
   "source": [
    "ConfusionMatrix(y_test, prediction, final_model, X_test)"
   ]
  },
  {
   "cell_type": "code",
   "execution_count": 22,
   "metadata": {},
   "outputs": [],
   "source": [
    "def ROC_Curve(y_test, prediction):\n",
    "    import matplotlib.pyplot as plt\n",
    "    from sklearn.metrics import roc_curve\n",
    "    fpr, tpr, thresholds = roc_curve(y_test, prediction.ravel())\n",
    "    plt.figure(1)\n",
    "    plt.plot([0,1], [0,1], 'y--')\n",
    "    plt.plot(fpr, tpr, marker='.')\n",
    "    plt.xlabel('False Positive Rate')\n",
    "    plt.ylabel('True Positive Rate')\n",
    "    plt.title('ROC Curve')\n",
    "    plt.show()"
   ]
  },
  {
   "cell_type": "code",
   "execution_count": 23,
   "metadata": {
    "scrolled": true
   },
   "outputs": [
    {
     "data": {
      "image/png": "[encoded data removed]",
      "text/plain": [
       "<Figure size 432x288 with 1 Axes>"
      ]
     },
     "metadata": {
      "needs_background": "light"
     },
     "output_type": "display_data"
    }
   ],
   "source": [
    "ROC_Curve(y_test, prediction)"
   ]
  },
  {
   "cell_type": "code",
   "execution_count": 24,
   "metadata": {},
   "outputs": [],
   "source": [
    "def ModelMetrics(y_test, prediction):\n",
    "    from sklearn.metrics import accuracy_score, precision_score, recall_score, f1_score, mean_absolute_error, mean_squared_error\n",
    "    print(\"Accuracy:  \",accuracy_score(y_test, prediction)*100)\n",
    "    print(\"Precision: \",precision_score(y_test, prediction)*100)\n",
    "    print(\"Recall:    \",recall_score(y_test, prediction)*100)\n",
    "    print(\"F1-Score:  \",f1_score(y_test, prediction)*100)\n",
    "    print(\"MSE:       \",mean_squared_error(y_test, prediction)*100)\n",
    "    print(\"RMSE:      \",mean_squared_error(y_test, prediction, squared = False)*100)\n",
    "    print(\"MAE:       \",mean_absolute_error(y_test, prediction)*100)"
   ]
  },
  {
   "cell_type": "code",
   "execution_count": 25,
   "metadata": {},
   "outputs": [
    {
     "name": "stdout",
     "output_type": "stream",
     "text": [
      "Accuracy:   80.895231916964\n",
      "Precision:  78.23442136498517\n",
      "Recall:     85.57286595261279\n",
      "F1-Score:   81.73926523019686\n",
      "MSE:        19.104768083036003\n",
      "RMSE:       43.70900145626299\n",
      "MAE:        19.104768083036003\n"
     ]
    }
   ],
   "source": [
    "ModelMetrics(y_test, prediction)"
   ]
  },
  {
   "cell_type": "code",
   "execution_count": 25,
   "metadata": {},
   "outputs": [
    {
     "data": {
      "text/plain": [
       "Index(['track', 'artist', 'uri', 'danceability', 'energy', 'key', 'loudness',\n",
       "       'mode', 'speechiness', 'acousticness', 'instrumentalness', 'liveness',\n",
       "       'valence', 'tempo', 'duration_ms', 'time_signature', 'chorus_hit',\n",
       "       'sections', 'target', 'decade'],\n",
       "      dtype='object')"
      ]
     },
     "execution_count": 25,
     "metadata": {},
     "output_type": "execute_result"
    }
   ],
   "source": [
    "data.columns"
   ]
  },
  {
   "cell_type": "code",
   "execution_count": 26,
   "metadata": {},
   "outputs": [],
   "source": [
    "import matplotlib.pyplot as plt\n",
    "%matplotlib inline"
   ]
  },
  {
   "cell_type": "code",
   "execution_count": 28,
   "metadata": {},
   "outputs": [
    {
     "data": {
      "text/plain": [
       "{'whiskers': [<matplotlib.lines.Line2D at 0x7f952e965a30>,\n",
       "  <matplotlib.lines.Line2D at 0x7f952e965d00>],\n",
       " 'caps': [<matplotlib.lines.Line2D at 0x7f952e996be0>,\n",
       "  <matplotlib.lines.Line2D at 0x7f952e996eb0>],\n",
       " 'boxes': [<matplotlib.lines.Line2D at 0x7f952e965760>],\n",
       " 'medians': [<matplotlib.lines.Line2D at 0x7f952e9a11c0>],\n",
       " 'fliers': [<matplotlib.lines.Line2D at 0x7f952e9a1490>],\n",
       " 'means': []}"
      ]
     },
     "execution_count": 28,
     "metadata": {},
     "output_type": "execute_result"
    },
    {
     "data": {
      "image/png": "[encoded data removed]",
      "text/plain": [
       "<Figure size 432x288 with 1 Axes>"
      ]
     },
     "metadata": {
      "needs_background": "light"
     },
     "output_type": "display_data"
    }
   ],
   "source": [
    "plt.boxplot(data['tempo'], meanline=True, vert=False)"
   ]
  },
  {
   "cell_type": "code",
   "execution_count": 30,
   "metadata": {},
   "outputs": [
    {
     "data": {
      "text/plain": [
       "{'whiskers': [<matplotlib.lines.Line2D at 0x7f952eaa07c0>,\n",
       "  <matplotlib.lines.Line2D at 0x7f952eab61f0>],\n",
       " 'caps': [<matplotlib.lines.Line2D at 0x7f952eab64f0>,\n",
       "  <matplotlib.lines.Line2D at 0x7f952eab6cd0>],\n",
       " 'boxes': [<matplotlib.lines.Line2D at 0x7f952eaa0220>],\n",
       " 'medians': [<matplotlib.lines.Line2D at 0x7f952eab6910>],\n",
       " 'fliers': [<matplotlib.lines.Line2D at 0x7f952eaa4070>],\n",
       " 'means': []}"
      ]
     },
     "execution_count": 30,
     "metadata": {},
     "output_type": "execute_result"
    },
    {
     "data": {
      "image/png": "[encoded data removed]",
      "text/plain": [
       "<Figure size 432x288 with 1 Axes>"
      ]
     },
     "metadata": {
      "needs_background": "light"
     },
     "output_type": "display_data"
    }
   ],
   "source": [
    "plt.boxplot(data['acousticness'], meanline=True, vert=False)"
   ]
  },
  {
   "cell_type": "code",
   "execution_count": 32,
   "metadata": {},
   "outputs": [
    {
     "data": {
      "text/plain": [
       "{'whiskers': [<matplotlib.lines.Line2D at 0x7f952ecb7190>,\n",
       "  <matplotlib.lines.Line2D at 0x7f952ecb7460>],\n",
       " 'caps': [<matplotlib.lines.Line2D at 0x7f952ecb7730>,\n",
       "  <matplotlib.lines.Line2D at 0x7f952ecb7a30>],\n",
       " 'boxes': [<matplotlib.lines.Line2D at 0x7f952ecabe80>],\n",
       " 'medians': [<matplotlib.lines.Line2D at 0x7f952ecb7d00>],\n",
       " 'fliers': [<matplotlib.lines.Line2D at 0x7f952ecb7fd0>],\n",
       " 'means': []}"
      ]
     },
     "execution_count": 32,
     "metadata": {},
     "output_type": "execute_result"
    },
    {
     "data": {
      "image/png": "[encoded data removed]",
      "text/plain": [
       "<Figure size 432x288 with 1 Axes>"
      ]
     },
     "metadata": {
      "needs_background": "light"
     },
     "output_type": "display_data"
    }
   ],
   "source": [
    "plt.boxplot(data['valence'], meanline=True, vert=False)"
   ]
  },
  {
   "cell_type": "code",
   "execution_count": 35,
   "metadata": {},
   "outputs": [
    {
     "data": {
      "text/plain": [
       "{'whiskers': [<matplotlib.lines.Line2D at 0x7f952f2cf6d0>,\n",
       "  <matplotlib.lines.Line2D at 0x7f952f2cf9a0>],\n",
       " 'caps': [<matplotlib.lines.Line2D at 0x7f952f2cfc70>,\n",
       "  <matplotlib.lines.Line2D at 0x7f952f2cff40>],\n",
       " 'boxes': [<matplotlib.lines.Line2D at 0x7f952f2cf400>],\n",
       " 'medians': [<matplotlib.lines.Line2D at 0x7f952f2c6250>],\n",
       " 'fliers': [<matplotlib.lines.Line2D at 0x7f952f2c6520>],\n",
       " 'means': []}"
      ]
     },
     "execution_count": 35,
     "metadata": {},
     "output_type": "execute_result"
    },
    {
     "data": {
      "image/png": "[encoded data removed]",
      "text/plain": [
       "<Figure size 432x288 with 1 Axes>"
      ]
     },
     "metadata": {
      "needs_background": "light"
     },
     "output_type": "display_data"
    }
   ],
   "source": [
    "plt.boxplot(data['energy'], meanline=True, vert=False)"
   ]
  },
  {
   "cell_type": "code",
   "execution_count": 36,
   "metadata": {},
   "outputs": [
    {
     "data": {
      "text/plain": [
       "{'whiskers': [<matplotlib.lines.Line2D at 0x7f95090433a0>,\n",
       "  <matplotlib.lines.Line2D at 0x7f9509043670>],\n",
       " 'caps': [<matplotlib.lines.Line2D at 0x7f9509043940>,\n",
       "  <matplotlib.lines.Line2D at 0x7f9509043c10>],\n",
       " 'boxes': [<matplotlib.lines.Line2D at 0x7f95090430d0>],\n",
       " 'medians': [<matplotlib.lines.Line2D at 0x7f9509043ee0>],\n",
       " 'fliers': [<matplotlib.lines.Line2D at 0x7f952f1581f0>],\n",
       " 'means': []}"
      ]
     },
     "execution_count": 36,
     "metadata": {},
     "output_type": "execute_result"
    },
    {
     "data": {
      "image/png": "[encoded data removed]",
      "text/plain": [
       "<Figure size 432x288 with 1 Axes>"
      ]
     },
     "metadata": {
      "needs_background": "light"
     },
     "output_type": "display_data"
    }
   ],
   "source": [
    "plt.boxplot(data['key'], meanline=True, vert=False)"
   ]
  },
  {
   "cell_type": "code",
   "execution_count": 38,
   "metadata": {},
   "outputs": [
    {
     "data": {
      "text/plain": [
       "{'whiskers': [<matplotlib.lines.Line2D at 0x7f950904f190>,\n",
       "  <matplotlib.lines.Line2D at 0x7f950904f460>],\n",
       " 'caps': [<matplotlib.lines.Line2D at 0x7f950904f730>,\n",
       "  <matplotlib.lines.Line2D at 0x7f950904fa00>],\n",
       " 'boxes': [<matplotlib.lines.Line2D at 0x7f952f18de80>],\n",
       " 'medians': [<matplotlib.lines.Line2D at 0x7f950904fcd0>],\n",
       " 'fliers': [<matplotlib.lines.Line2D at 0x7f950904ffa0>],\n",
       " 'means': []}"
      ]
     },
     "execution_count": 38,
     "metadata": {},
     "output_type": "execute_result"
    },
    {
     "data": {
      "image/png": "[encoded data removed]",
      "text/plain": [
       "<Figure size 432x288 with 1 Axes>"
      ]
     },
     "metadata": {
      "needs_background": "light"
     },
     "output_type": "display_data"
    }
   ],
   "source": [
    "plt.boxplot(data['loudness'], meanline=True, vert=False)"
   ]
  },
  {
   "cell_type": "code",
   "execution_count": null,
   "metadata": {},
   "outputs": [],
   "source": []
  }
 ],
 "metadata": {
  "kernelspec": {
   "display_name": "Python 3 (ipykernel)",
   "language": "python",
   "name": "python3"
  },
  "language_info": {
   "codemirror_mode": {
    "name": "ipython",
    "version": 3
   },
   "file_extension": ".py",
   "mimetype": "text/x-python",
   "name": "python",
   "nbconvert_exporter": "python",
   "pygments_lexer": "ipython3",
   "version": "3.9.12"
  },
  "papermill": {
   "default_parameters": {},
   "duration": 126.172448,
   "end_time": "2021-02-07T18:27:23.897271",
   "environment_variables": {},
   "exception": null,
   "input_path": "__notebook__.ipynb",
   "output_path": "__notebook__.ipynb",
   "parameters": {},
   "start_time": "2021-02-07T18:25:17.724823",
   "version": "2.2.2"
  }
 },
 "nbformat": 4,
 "nbformat_minor": 4
}
